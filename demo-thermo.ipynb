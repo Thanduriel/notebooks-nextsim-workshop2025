{
 "cells": [
  {
   "cell_type": "code",
   "execution_count": null,
   "id": "e7e06293-0b8a-474a-8a2a-3b0688edbd77",
   "metadata": {
    "editable": true,
    "slideshow": {
     "slide_type": ""
    },
    "tags": []
   },
   "outputs": [],
   "source": [
    "# Numpy\n",
    "import numpy as np\n",
    "\n",
    "# xarray\n",
    "import xarray as xr\n",
    "\n",
    "# matplotlib\n",
    "import matplotlib.pyplot as plt\n",
    "from IPython.display import HTML\n",
    "\n",
    "# time\n",
    "import datetime\n",
    "from cftime import num2date\n",
    "\n",
    "import cmocean  # for nice oceanographic colormaps\n",
    "\n",
    "#JUPYTER notebook magics\n",
    "%matplotlib inline "
   ]
  },
  {
   "cell_type": "code",
   "execution_count": null,
   "id": "c1836bd8-c3d9-4ac2-b8ce-fe7e797e0cb7",
   "metadata": {
    "editable": true,
    "slideshow": {
     "slide_type": ""
    },
    "tags": []
   },
   "outputs": [],
   "source": [
    "%%bash\n",
    "\n",
    "# We tune the model and forcing using these modules\n",
    "/home/nextsimdg/build/nextsim --help-config WintonAlbedo\n",
    "/home/nextsimdg/build/nextsim --help-config FluxConfiguredOcean\n",
    "/home/nextsimdg/build/nextsim --help-config ThermoWinton"
   ]
  },
  {
   "cell_type": "code",
   "execution_count": null,
   "id": "83e0a679-e822-4a39-ace4-27a39bd1096d",
   "metadata": {
    "editable": true,
    "slideshow": {
     "slide_type": ""
    },
    "tags": []
   },
   "outputs": [],
   "source": [
    "%%bash\n",
    "\n",
    "#link to config file\n",
    "# This is just for convenience\n",
    "ln -sf data-nextsim-workshop2025/nextsimdg/demo-thermo/config_column.cfg .\n"
   ]
  },
  {
   "cell_type": "code",
   "execution_count": null,
   "id": "4e92c0de-bcf5-4de1-8b04-d08a12f9ca95",
   "metadata": {
    "editable": true,
    "scrolled": true,
    "slideshow": {
     "slide_type": ""
    },
    "tags": []
   },
   "outputs": [],
   "source": [
    "%%bash\n",
    "\n",
    "# We can also run the model with the relative or full path to the config file. It doesn't have to be linked/copied here\n",
    "time /home/nextsimdg/build/nextsim --config-file config_column.cfg"
   ]
  },
  {
   "cell_type": "code",
   "execution_count": null,
   "id": "a413fae0-ae62-4edf-ab14-3cc8ceea50c5",
   "metadata": {},
   "outputs": [],
   "source": [
    "# Load the NetCDF file\n",
    "ds = xr.open_dataset(\"thermo.diagnostic.nc\", group=\"/data\")\n",
    "print(ds)"
   ]
  },
  {
   "cell_type": "code",
   "execution_count": null,
   "id": "73c93e53-4cd5-40bd-9680-099f963b84f1",
   "metadata": {},
   "outputs": [],
   "source": [
    "# Create sensible dates to use\n",
    "time = ds['time']\n",
    "time_vals = num2date(time.values, units='seconds since 1970-01-01', calendar='gregorian')\n",
    "time_index = 23"
   ]
  },
  {
   "cell_type": "code",
   "execution_count": null,
   "id": "0f902520-39e2-43bb-b168-b945e0c3e6af",
   "metadata": {},
   "outputs": [],
   "source": [
    "# Calculate ice draught for a nicer visualisation\n",
    "rho = 917\n",
    "rhoSnow = 330\n",
    "rhoOcean = 1025\n",
    "\n",
    "# Throw away unneeded data and dimensions\n",
    "hice = np.squeeze(ds['hice'].isel(dg_comp=0))\n",
    "hsnow = np.squeeze(ds['hsnow'])\n",
    "tice = np.squeeze(ds['tice'])\n",
    "\n",
    "iceDraught = (hice * rho + hsnow * rhoSnow) / rhoOcean"
   ]
  },
  {
   "cell_type": "code",
   "execution_count": null,
   "id": "43abc214-8fc8-4472-b6fe-05861593c6cc",
   "metadata": {},
   "outputs": [],
   "source": [
    "# Some simple diagnostics\n",
    "print('hice  max: {0:0.2f}, min: {1:0.2f}, mean: {2:0.2f}'.format(hice.max(), hice.min(), hice.mean()))\n",
    "print('hsnow max: {0:0.2f}, min: {1:0.2f}, mean: {2:0.2f}'.format(hsnow.max(), hsnow.min(), hsnow.mean()))"
   ]
  },
  {
   "cell_type": "code",
   "execution_count": null,
   "id": "1129559f-87fa-4dad-be81-57f3509eae6c",
   "metadata": {},
   "outputs": [],
   "source": [
    "# Figure showing temperature evolution, cf,. Winton (2000) figure 2\n",
    "plt.figure()\n",
    "plt.plot([0, len(ds['hice'])], [0, 0], 'k--')\n",
    "plt.plot(tice[:, 0], 'k', label=\"Surface\")\n",
    "plt.plot(tice[:, 1], label=\"T1\")\n",
    "plt.plot(tice[:, 2], label=\"T2\")\n",
    "plt.xlabel(\"Day of year\")\n",
    "plt.ylabel(\"Temperature [°C]\")\n",
    "plt.legend()\n",
    "plt.show()"
   ]
  },
  {
   "cell_type": "code",
   "execution_count": null,
   "id": "bb3f9bee-7139-49c8-a85c-1ea74190fe4e",
   "metadata": {},
   "outputs": [],
   "source": [
    "# Figure showing thickness evolution, cf. Winton (2000) figure 2\n",
    "plt.figure()\n",
    "plt.plot([0, len(hice)], [0, 0], 'k--')\n",
    "plt.plot(hice - iceDraught, 'b', label=\"Ice\")\n",
    "plt.plot(hice + hsnow - iceDraught, 'k', label=\"Snow\")\n",
    "plt.plot(-iceDraught, 'b')\n",
    "plt.xlabel(\"Day of year\")\n",
    "plt.ylabel(\"Height over sea level [m]\")\n",
    "plt.legend()\n",
    "plt.show()"
   ]
  },
  {
   "cell_type": "code",
   "execution_count": null,
   "id": "875473e7-5d48-4eb3-b175-8d09addfc4a7",
   "metadata": {},
   "outputs": [],
   "source": [
    "ds.close()"
   ]
  },
  {
   "cell_type": "code",
   "execution_count": null,
   "id": "37219705-c53d-480d-a7fd-4e5da08840ce",
   "metadata": {
    "editable": true,
    "slideshow": {
     "slide_type": ""
    },
    "tags": []
   },
   "outputs": [],
   "source": []
  }
 ],
 "metadata": {
  "kernelspec": {
   "display_name": "Python 3 (ipykernel)",
   "language": "python",
   "name": "python3"
  },
  "language_info": {
   "codemirror_mode": {
    "name": "ipython",
    "version": 3
   },
   "file_extension": ".py",
   "mimetype": "text/x-python",
   "name": "python",
   "nbconvert_exporter": "python",
   "pygments_lexer": "ipython3",
   "version": "3.11.9"
  }
 },
 "nbformat": 4,
 "nbformat_minor": 5
}
