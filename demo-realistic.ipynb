{
 "cells": [
  {
   "cell_type": "code",
   "execution_count": null,
   "id": "e7e06293-0b8a-474a-8a2a-3b0688edbd77",
   "metadata": {},
   "outputs": [],
   "source": [
    "#standart libraries\n",
    "import os,sys\n",
    "import numpy as np\n",
    "\n",
    "# xarray\n",
    "import xarray as xr\n",
    "\n",
    "# matplotlib\n",
    "import matplotlib.pyplot as plt\n",
    "import matplotlib.cm as cm\n",
    "from matplotlib import animation\n",
    "from IPython.display import HTML\n",
    "\n",
    "# time\n",
    "import datetime\n",
    "from cftime import num2date\n",
    "\n",
    "import cmocean  # for nice oceanographic colormaps\n",
    "\n",
    "#JUPYTER notebook magics\n",
    "%matplotlib inline "
   ]
  },
  {
   "cell_type": "code",
   "execution_count": null,
   "id": "83e0a679-e822-4a39-ace4-27a39bd1096d",
   "metadata": {},
   "outputs": [],
   "source": [
    "%%bash\n",
    "\n",
    "#link to config file\n",
    "ln -sf data-nextsim-workshop2025/nextsimdg/demo-realistic/config_25km_NH.cfg .\n"
   ]
  },
  {
   "cell_type": "code",
   "execution_count": null,
   "id": "4e92c0de-bcf5-4de1-8b04-d08a12f9ca95",
   "metadata": {},
   "outputs": [],
   "source": [
    "%%bash\n",
    "\n",
    "time /home/nextsimdg/build/nextsim --config-file config_25km_NH.cfg"
   ]
  },
  {
   "cell_type": "code",
   "execution_count": null,
   "id": "a413fae0-ae62-4edf-ab14-3cc8ceea50c5",
   "metadata": {},
   "outputs": [],
   "source": [
    "# Load the NetCDF file\n",
    "ds = xr.open_dataset(\"25km_NH.diagnostic.nc\", group=\"/data\")\n",
    "print(ds)\n",
    "mask = xr.open_dataset(\"data-nextsim-workshop2025/nextsimdg/demo-realistic/init_25km_NH.nc\", group=\"/data\")['mask']\n",
    "land = np.where(mask == 0, 1, np.nan)  # 1 = land, nan = ocean"
   ]
  },
  {
   "cell_type": "code",
   "execution_count": null,
   "id": "73c93e53-4cd5-40bd-9680-099f963b84f1",
   "metadata": {},
   "outputs": [],
   "source": [
    "# Create sensible dates to use and a land mask\n",
    "time = ds['time']\n",
    "time_vals = num2date(time.values, units='seconds since 1970-01-01', calendar='gregorian')\n",
    "time_index = 23"
   ]
  },
  {
   "cell_type": "code",
   "execution_count": null,
   "id": "42eee892-1d98-493f-9c04-7f3017012d14",
   "metadata": {},
   "outputs": [],
   "source": [
    "var = ds['cice'].isel(time=time_index).isel(dg_comp=0)\n",
    "\n",
    "plt.figure()\n",
    "p = plt.pcolormesh(var, shading='auto', cmap='cmo.ice', vmin=0, vmax=1)\n",
    "plt.gca().set_aspect('equal')\n",
    "plt.colorbar(p, label='Sea Ice Concentration', orientation='vertical')\n",
    "\n",
    "plt.pcolormesh(land, shading='auto', cmap='Pastel2', vmin=0, vmax=1)\n",
    "\n",
    "plt.title(f\"Short model run at {time_vals[time_index].isoformat()}\")\n",
    "plt.tight_layout()\n",
    "plt.xticks([])\n",
    "plt.yticks([])\n",
    "plt.show()"
   ]
  },
  {
   "cell_type": "code",
   "execution_count": null,
   "id": "75e3d6c1-8a3c-4bad-a578-8884f13a0192",
   "metadata": {},
   "outputs": [],
   "source": [
    "var = ds['shear'].isel(time=time_index) * 24*3600\n",
    "\n",
    "plt.figure()\n",
    "p = plt.pcolormesh(var, shading='auto', cmap='viridis', vmin=0, vmax=1.5)\n",
    "plt.gca().set_aspect('equal')\n",
    "plt.colorbar(p, label='Sea Ice Concentration', orientation='vertical')\n",
    "\n",
    "plt.pcolormesh(land, shading='auto', cmap='Pastel2', vmin=0, vmax=1)\n",
    "\n",
    "plt.title(f\"Short model run at {time_vals[time_index].isoformat()}\")\n",
    "plt.tight_layout()\n",
    "plt.xticks([])\n",
    "plt.yticks([])\n",
    "plt.show()"
   ]
  },
  {
   "cell_type": "code",
   "execution_count": null,
   "id": "0f902520-39e2-43bb-b168-b945e0c3e6af",
   "metadata": {},
   "outputs": [],
   "source": [
    "ds.close()"
   ]
  },
  {
   "cell_type": "code",
   "execution_count": null,
   "id": "e1095162-3898-4059-9161-2bc706d077b2",
   "metadata": {
    "editable": true,
    "slideshow": {
     "slide_type": ""
    },
    "tags": []
   },
   "outputs": [],
   "source": []
  }
 ],
 "metadata": {
  "kernelspec": {
   "display_name": "Python 3 (ipykernel)",
   "language": "python",
   "name": "python3"
  },
  "language_info": {
   "codemirror_mode": {
    "name": "ipython",
    "version": 3
   },
   "file_extension": ".py",
   "mimetype": "text/x-python",
   "name": "python",
   "nbconvert_exporter": "python",
   "pygments_lexer": "ipython3",
   "version": "3.11.9"
  }
 },
 "nbformat": 4,
 "nbformat_minor": 5
}
