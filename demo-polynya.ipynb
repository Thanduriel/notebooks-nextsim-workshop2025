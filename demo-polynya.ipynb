{
 "cells": [
  {
   "cell_type": "code",
   "execution_count": null,
   "id": "e7e06293-0b8a-474a-8a2a-3b0688edbd77",
   "metadata": {
    "editable": true,
    "slideshow": {
     "slide_type": ""
    },
    "tags": []
   },
   "outputs": [],
   "source": [
    "# Numpy\n",
    "import numpy as np\n",
    "\n",
    "# xarray\n",
    "import xarray as xr\n",
    "\n",
    "# matplotlib\n",
    "import matplotlib.pyplot as plt\n",
    "from IPython.display import HTML\n",
    "\n",
    "# time\n",
    "import datetime\n",
    "from cftime import num2date\n",
    "\n",
    "import cmocean  # for nice oceanographic colormaps\n",
    "\n",
    "#JUPYTER notebook magics\n",
    "%matplotlib inline "
   ]
  },
  {
   "cell_type": "code",
   "execution_count": null,
   "id": "83e0a679-e822-4a39-ace4-27a39bd1096d",
   "metadata": {
    "editable": true,
    "slideshow": {
     "slide_type": ""
    },
    "tags": []
   },
   "outputs": [],
   "source": [
    "%%bash\n",
    "\n",
    "#link to config file\n",
    "# This is just for convenience\n",
    "ln -sf data-nextsim-workshop2025/nextsimdg/demo-polynya/config_polynya.cfg .\n"
   ]
  },
  {
   "cell_type": "code",
   "execution_count": null,
   "id": "4e92c0de-bcf5-4de1-8b04-d08a12f9ca95",
   "metadata": {
    "editable": true,
    "scrolled": true,
    "slideshow": {
     "slide_type": ""
    },
    "tags": []
   },
   "outputs": [],
   "source": [
    "%%bash\n",
    "\n",
    "# We can also run the model with the relative or full path to the config file. It doesn't have to be linked/copied here\n",
    "time /home/nextsimdg/build/nextsim --config-file config_polynya.cfg"
   ]
  },
  {
   "cell_type": "code",
   "execution_count": null,
   "id": "a413fae0-ae62-4edf-ab14-3cc8ceea50c5",
   "metadata": {
    "editable": true,
    "slideshow": {
     "slide_type": ""
    },
    "tags": []
   },
   "outputs": [],
   "source": [
    "# Load the NetCDF file\n",
    "ds = xr.open_dataset(\"polynya.diagnostic.nc\", group=\"/data\")\n",
    "print(ds)\n",
    "\n",
    "# We (still) need to fetch the mask from the init file\n",
    "\n",
    "mask = xr.open_dataset(\"data-nextsim-workshop2025/nextsimdg/demo-polynya/init_polynya.nc\", group=\"/data\")['mask']\n",
    "land = np.where(mask == 0, 1, np.nan)  # 1 = land, nan = ocean"
   ]
  },
  {
   "cell_type": "code",
   "execution_count": null,
   "id": "73c93e53-4cd5-40bd-9680-099f963b84f1",
   "metadata": {
    "editable": true,
    "slideshow": {
     "slide_type": ""
    },
    "tags": []
   },
   "outputs": [],
   "source": [
    "# Create sensible dates to use and a land mask\n",
    "time = ds['time']\n",
    "time_vals = num2date(time.values, units='seconds since 1970-01-01', calendar='gregorian')\n",
    "\n",
    "time_index = 5"
   ]
  },
  {
   "cell_type": "code",
   "execution_count": null,
   "id": "6f255c37-9d16-4cff-9ae1-193e2ffce5cd",
   "metadata": {},
   "outputs": [],
   "source": [
    "# Striding for u and v\n",
    "ny, nx = ds['u'].isel(time=0).shape\n",
    "Y, X = np.meshgrid(np.arange(ny), np.arange(nx), indexing='ij')\n",
    "\n",
    "stride = 2\n",
    "u = ds['u'].isel(time=time_index)[::stride, ::stride]\n",
    "v = ds['v'].isel(time=time_index)[::stride, ::stride]\n",
    "x = X[::stride, ::stride]\n",
    "y = Y[::stride, ::stride]"
   ]
  },
  {
   "cell_type": "code",
   "execution_count": null,
   "id": "42eee892-1d98-493f-9c04-7f3017012d14",
   "metadata": {},
   "outputs": [],
   "source": [
    "# NB - we need to pick the first DG component, as well as a time slice\n",
    "var = ds['cice'].isel(time=time_index).isel(dg_comp=0)\n",
    "\n",
    "plt.figure()\n",
    "p = plt.pcolormesh(var, shading='auto', cmap='cmo.ice', vmin=0, vmax=1)\n",
    "plt.gca().set_aspect('equal')\n",
    "\n",
    "plt.colorbar(p, label='Sea Ice Concentration', orientation='horizontal')\n",
    "\n",
    "plt.quiver(x, y, u, v, scale=5, color='g', width=0.002)\n",
    "\n",
    "plt.pcolormesh(land, shading='auto', cmap='Pastel2', vmin=0, vmax=1)\n",
    "\n",
    "plt.title(f\"Polynya model at {time_vals[time_index].isoformat()}\")\n",
    "\n",
    "plt.xticks([])\n",
    "plt.yticks([])\n",
    "plt.show()"
   ]
  },
  {
   "cell_type": "code",
   "execution_count": null,
   "id": "75e3d6c1-8a3c-4bad-a578-8884f13a0192",
   "metadata": {
    "editable": true,
    "slideshow": {
     "slide_type": ""
    },
    "tags": []
   },
   "outputs": [],
   "source": [
    "var = ds['hice'].isel(time=time_index).isel(dg_comp=0)\n",
    "\n",
    "plt.figure()\n",
    "p = plt.pcolormesh(var, shading='auto', cmap='viridis', vmin=0, vmax=0.3)\n",
    "plt.gca().set_aspect('equal')\n",
    "\n",
    "plt.colorbar(p, label='Sea Ice Thickness', orientation='horizontal')\n",
    "\n",
    "plt.quiver(x, y, u, v, scale=5, color='w', width=0.002)\n",
    "\n",
    "plt.pcolormesh(land, shading='auto', cmap='Pastel2', vmin=0, vmax=1)\n",
    "\n",
    "plt.title(f\"Polynya model at {time_vals[time_index].isoformat()}\")\n",
    "\n",
    "plt.xticks([])\n",
    "plt.yticks([])\n",
    "plt.show()"
   ]
  },
  {
   "cell_type": "code",
   "execution_count": null,
   "id": "0f902520-39e2-43bb-b168-b945e0c3e6af",
   "metadata": {
    "editable": true,
    "slideshow": {
     "slide_type": ""
    },
    "tags": []
   },
   "outputs": [],
   "source": [
    "ds.close()"
   ]
  },
  {
   "cell_type": "code",
   "execution_count": null,
   "id": "e0abc08e-c6ca-4931-a00e-eacf08ee9317",
   "metadata": {
    "editable": true,
    "slideshow": {
     "slide_type": ""
    },
    "tags": []
   },
   "outputs": [],
   "source": []
  }
 ],
 "metadata": {
  "kernelspec": {
   "display_name": "Python 3 (ipykernel)",
   "language": "python",
   "name": "python3"
  },
  "language_info": {
   "codemirror_mode": {
    "name": "ipython",
    "version": 3
   },
   "file_extension": ".py",
   "mimetype": "text/x-python",
   "name": "python",
   "nbconvert_exporter": "python",
   "pygments_lexer": "ipython3",
   "version": "3.11.9"
  }
 },
 "nbformat": 4,
 "nbformat_minor": 5
}
