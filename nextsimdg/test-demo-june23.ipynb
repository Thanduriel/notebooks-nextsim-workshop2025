{
 "cells": [
  {
   "cell_type": "code",
   "execution_count": 1,
   "id": "e7e06293-0b8a-474a-8a2a-3b0688edbd77",
   "metadata": {},
   "outputs": [],
   "source": [
    "#standart libraries\n",
    "import os,sys\n",
    "import numpy as np\n",
    "\n",
    "# xarray\n",
    "import xarray as xr\n",
    "\n",
    "# plot\n",
    "import matplotlib.pyplot as plt\n",
    "import matplotlib.cm as cm\n",
    "from matplotlib import animation\n",
    "from IPython.display import HTML\n",
    "\n",
    "#JUPYTER notebook magics\n",
    "%matplotlib inline "
   ]
  },
  {
   "cell_type": "code",
   "execution_count": 2,
   "id": "e0466642-49e7-43c1-8d2b-5bd7e64526c1",
   "metadata": {},
   "outputs": [
    {
     "name": "stdout",
     "output_type": "stream",
     "text": [
      "25km_NH.ERA5_2010-01-01_2011-01-01.nc\n",
      "25km_NH.TOPAZ4_2010-01-01_2011-01-01.nc\n",
      "25km_NH_newmask.smesh\n",
      "config_june23.cfg\n",
      "demo-june23.ipynb\n",
      "init_25km_NH.nc\n",
      "nextsim\n"
     ]
    }
   ],
   "source": [
    "%%bash\n",
    "\n",
    "# link the precompiled executable of the nextsimdg model to the work directory\n",
    "ln -sf /home/nextsimdg/build/nextsim .\n",
    "\n",
    "# link the forcing files for atmospheric (ERA5) and ocean (TOPAZ)  boundary conditions to the work directory\n",
    "ln -sf /home/nextsim-workshop/data-nextsim-workshop2025/nextsimdg/demo-june2023/25km_NH.TOPAZ4_2010-01-01_2011-01-01.nc .\n",
    "ln -sf /home/nextsim-workshop/data-nextsim-workshop2025/nextsimdg/demo-june2023/25km_NH.ERA5_2010-01-01_2011-01-01.nc .\n",
    "\n",
    "# link the mesh file to the work directory\n",
    "ln -sf /home/nextsim-workshop/data-nextsim-workshop2025/nextsimdg/demo-june2023/25km_NH_newmask.smesh \n",
    "\n",
    "# link the initial conditions  to the work directory\n",
    "ln -sf /home/nextsim-workshop/data-nextsim-workshop2025/nextsimdg/demo-june2023/init_25km_NH.nc .\n",
    "\n",
    "# list files in the work directory as a check:\n",
    "ls"
   ]
  },
  {
   "cell_type": "code",
   "execution_count": 3,
   "id": "83e0a679-e822-4a39-ace4-27a39bd1096d",
   "metadata": {},
   "outputs": [],
   "source": [
    "%%bash\n",
    "\n",
    "#link to config file\n",
    "ln -sf /home/nextsimdg/run/config_june23.cfg ."
   ]
  },
  {
   "cell_type": "code",
   "execution_count": 4,
   "id": "4e92c0de-bcf5-4de1-8b04-d08a12f9ca95",
   "metadata": {},
   "outputs": [
    {
     "name": "stdout",
     "output_type": "stream",
     "text": [
      "2010-01-01T00:00:00Z\n",
      "2010-01-01T00:05:00Z\n",
      "2010-01-01T00:10:00Z\n",
      "ParaGridIO::closeAllFiles: closing 0 files\n",
      "total 4696\n",
      "lrwxr-xr-x 1 root root      29 Apr  9 13:05 nextsim -> /home/nextsimdg/build/nextsim\n",
      "lrwxr-xr-x 1 root root     112 Apr  9 13:05 25km_NH.TOPAZ4_2010-01-01_2011-01-01.nc -> /home/nextsim-workshop/data-nextsim-workshop2025/nextsimdg/demo-june2023/25km_NH.TOPAZ4_2010-01-01_2011-01-01.nc\n",
      "lrwxr-xr-x 1 root root     110 Apr  9 13:05 25km_NH.ERA5_2010-01-01_2011-01-01.nc -> /home/nextsim-workshop/data-nextsim-workshop2025/nextsimdg/demo-june2023/25km_NH.ERA5_2010-01-01_2011-01-01.nc\n",
      "lrwxr-xr-x 1 root root      94 Apr  9 13:05 25km_NH_newmask.smesh -> /home/nextsim-workshop/data-nextsim-workshop2025/nextsimdg/demo-june2023/25km_NH_newmask.smesh\n",
      "lrwxr-xr-x 1 root root      88 Apr  9 13:05 init_25km_NH.nc -> /home/nextsim-workshop/data-nextsim-workshop2025/nextsimdg/demo-june2023/init_25km_NH.nc\n",
      "lrwxr-xr-x 1 root root      37 Apr  9 13:05 config_june23.cfg -> /home/nextsimdg/run/config_june23.cfg\n",
      "-rw-r--r-- 1 root root    3318 Apr  9 13:06 demo-june23.ipynb\n",
      "-rw-r--r-- 1 root root 4800011 Apr  9 14:08 restart2010-01-01T00:15:00Z.nc\n",
      "-rw-r--r-- 1 root root      67 Apr  9 14:08 nextsim.14:08:51.log\n"
     ]
    }
   ],
   "source": [
    "%%bash\n",
    "\n",
    "\n",
    "./nextsim --config-file config_june23.cfg \n",
    "\n",
    "ls -lrt"
   ]
  },
  {
   "cell_type": "code",
   "execution_count": null,
   "id": "475f0c48-e320-4336-ade7-bd79d3c5534a",
   "metadata": {},
   "outputs": [],
   "source": []
  }
 ],
 "metadata": {
  "kernelspec": {
   "display_name": "Python 3 (ipykernel)",
   "language": "python",
   "name": "python3"
  },
  "language_info": {
   "codemirror_mode": {
    "name": "ipython",
    "version": 3
   },
   "file_extension": ".py",
   "mimetype": "text/x-python",
   "name": "python",
   "nbconvert_exporter": "python",
   "pygments_lexer": "ipython3",
   "version": "3.11.9"
  }
 },
 "nbformat": 4,
 "nbformat_minor": 5
}
